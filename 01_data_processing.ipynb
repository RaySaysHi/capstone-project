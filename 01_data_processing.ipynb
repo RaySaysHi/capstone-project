{
 "cells": [
  {
   "cell_type": "markdown",
   "metadata": {},
   "source": [
    "# DC Economic Data - Monthly Dataset Creation\n",
    "================================================="
   ]
  },
  {
   "cell_type": "code",
   "execution_count": 29,
   "metadata": {},
   "outputs": [],
   "source": [
    "import pandas as pd\n",
    "import numpy as np\n",
    "import matplotlib.pyplot as plt\n",
    "import seaborn as sns\n",
    "import os\n",
    "from datetime import datetime\n",
    "from scipy import interpolate"
   ]
  },
  {
   "cell_type": "markdown",
   "metadata": {},
   "source": [
    "## 1. Create Monthly Date Range"
   ]
  },
  {
   "cell_type": "code",
   "execution_count": 30,
   "metadata": {},
   "outputs": [
    {
     "name": "stdout",
     "output_type": "stream",
     "text": [
      "Created base monthly DataFrame with 300 records from 2000-01-01 to 2024-12-01\n"
     ]
    }
   ],
   "source": [
    "start_date = '2000-01-01'\n",
    "end_date = '2024-12-31'\n",
    "\n",
    "# Create a date range for all months in the period\n",
    "date_range = pd.date_range(start=start_date, end=end_date, freq='MS')\n",
    "monthly_df = pd.DataFrame({'Date': date_range})\n",
    "monthly_df['Year'] = monthly_df['Date'].dt.year\n",
    "monthly_df['Month'] = monthly_df['Date'].dt.month\n",
    "\n",
    "print(f\"Created base monthly DataFrame with {len(monthly_df)} records from {monthly_df['Date'].min().strftime('%Y-%m-%d')} to {monthly_df['Date'].max().strftime('%Y-%m-%d')}\")"
   ]
  },
  {
   "cell_type": "markdown",
   "metadata": {},
   "source": [
    "## 2. Process Data Files with Monthly Data"
   ]
  },
  {
   "cell_type": "markdown",
   "metadata": {},
   "source": [
    "### Process Unemployment Rate (already monthly)"
   ]
  },
  {
   "cell_type": "code",
   "execution_count": 31,
   "metadata": {},
   "outputs": [
    {
     "name": "stdout",
     "output_type": "stream",
     "text": [
      "Added monthly Unemployment Rate data (1999-2024)\n"
     ]
    }
   ],
   "source": [
    "try:\n",
    "    unemployment_df = pd.read_csv(os.path.join('Data', 'DC_Unemployment_Rate.csv'))\n",
    "    \n",
    "    # Parse the Label column to extract year and month\n",
    "    unemployment_df[['Year', 'Month']] = unemployment_df['Label'].str.split(' ', expand=True)\n",
    "    \n",
    "    # Map month names to numbers\n",
    "    month_map = {'Jan': 1, 'Feb': 2, 'Mar': 3, 'Apr': 4, 'May': 5, 'Jun': 6, \n",
    "                 'Jul': 7, 'Aug': 8, 'Sep': 9, 'Oct': 10, 'Nov': 11, 'Dec': 12}\n",
    "    unemployment_df['Month'] = unemployment_df['Month'].map(month_map)\n",
    "    \n",
    "    # Convert Year to integer\n",
    "    unemployment_df['Year'] = unemployment_df['Year'].astype(int)\n",
    "    \n",
    "    # Merge with monthly dataframe\n",
    "    monthly_df = pd.merge(\n",
    "        monthly_df,\n",
    "        unemployment_df[['Year', 'Month', 'Value']].rename(columns={'Value': 'Unemployment_Rate'}),\n",
    "        on=['Year', 'Month'],\n",
    "        how='left'\n",
    "    )\n",
    "    \n",
    "    print(f\"Added monthly Unemployment Rate data ({unemployment_df['Year'].min()}-{unemployment_df['Year'].max()})\")\n",
    "except Exception as e:\n",
    "    print(f\"Error processing Unemployment Rate data: {e}\")"
   ]
  },
  {
   "cell_type": "markdown",
   "metadata": {},
   "source": [
    "### Process CPI Data (monthly in wide format)"
   ]
  },
  {
   "cell_type": "code",
   "execution_count": 32,
   "metadata": {},
   "outputs": [
    {
     "name": "stdout",
     "output_type": "stream",
     "text": [
      "Added monthly CPI data (1999-2024)\n"
     ]
    }
   ],
   "source": [
    "try:\n",
    "    cpi_df = pd.read_csv(os.path.join('Data', 'DMV_CPI.csv'))\n",
    "    \n",
    "    # Convert from wide to long format\n",
    "    cpi_long = pd.melt(\n",
    "        cpi_df,\n",
    "        id_vars=['Year'],\n",
    "        value_vars=['Jan', 'Feb', 'Mar', 'Apr', 'May', 'Jun', 'Jul', 'Aug', 'Sep', 'Oct', 'Nov', 'Dec'],\n",
    "        var_name='Month',\n",
    "        value_name='CPI'\n",
    "    )\n",
    "    \n",
    "    # Map month names to numbers\n",
    "    month_map = {'Jan': 1, 'Feb': 2, 'Mar': 3, 'Apr': 4, 'May': 5, 'Jun': 6, \n",
    "                 'Jul': 7, 'Aug': 8, 'Sep': 9, 'Oct': 10, 'Nov': 11, 'Dec': 12}\n",
    "    cpi_long['Month'] = cpi_long['Month'].map(month_map)\n",
    "    \n",
    "    # Merge with monthly dataframe\n",
    "    monthly_df = pd.merge(\n",
    "        monthly_df,\n",
    "        cpi_long[['Year', 'Month', 'CPI']],\n",
    "        on=['Year', 'Month'],\n",
    "        how='left'\n",
    "    )\n",
    "    \n",
    "    print(f\"Added monthly CPI data ({cpi_df['Year'].min()}-{cpi_df['Year'].max()})\")\n",
    "except Exception as e:\n",
    "    print(f\"Error processing CPI data: {e}\")"
   ]
  },
  {
   "cell_type": "markdown",
   "metadata": {},
   "source": [
    "### Process Interest Rate Data (monthly)"
   ]
  },
  {
   "cell_type": "code",
   "execution_count": 33,
   "metadata": {},
   "outputs": [
    {
     "name": "stdout",
     "output_type": "stream",
     "text": [
      "Added monthly Interest Rate data (2000-2025)\n"
     ]
    }
   ],
   "source": [
    "try:\n",
    "    interest_df = pd.read_csv(os.path.join('Data', 'Interest_Rates.csv'))\n",
    "    \n",
    "    # Extract year and month from observation_date\n",
    "    interest_df['Date'] = pd.to_datetime(interest_df['observation_date'])\n",
    "    interest_df['Year'] = interest_df['Date'].dt.year\n",
    "    interest_df['Month'] = interest_df['Date'].dt.month\n",
    "    \n",
    "    # Merge with monthly dataframe\n",
    "    monthly_df = pd.merge(\n",
    "        monthly_df,\n",
    "        interest_df[['Year', 'Month', 'FEDFUNDS']].rename(columns={'FEDFUNDS': 'Interest_Rate'}),\n",
    "        on=['Year', 'Month'],\n",
    "        how='left'\n",
    "    )\n",
    "    \n",
    "    print(f\"Added monthly Interest Rate data ({interest_df['Year'].min()}-{interest_df['Year'].max()})\")\n",
    "except Exception as e:\n",
    "    print(f\"Error processing Interest Rate data: {e}\")"
   ]
  },
  {
   "cell_type": "markdown",
   "metadata": {},
   "source": [
    "### Process Mortgage Rate Data (weekly to monthly)"
   ]
  },
  {
   "cell_type": "code",
   "execution_count": 34,
   "metadata": {},
   "outputs": [
    {
     "name": "stdout",
     "output_type": "stream",
     "text": [
      "Added monthly Mortgage Rate data (1999-2025)\n"
     ]
    }
   ],
   "source": [
    "try:\n",
    "    mortgage_df = pd.read_csv(os.path.join('Data', 'Mortgage_Rate.csv'))\n",
    "    \n",
    "    # Convert Week to datetime\n",
    "    mortgage_df['Date'] = pd.to_datetime(mortgage_df['Week'], errors='coerce')\n",
    "    \n",
    "    # Filter out any rows with invalid dates\n",
    "    mortgage_df = mortgage_df.dropna(subset=['Date'])\n",
    "    \n",
    "    # Extract year and month\n",
    "    mortgage_df['Year'] = mortgage_df['Date'].dt.year\n",
    "    mortgage_df['Month'] = mortgage_df['Date'].dt.month\n",
    "    \n",
    "    # Group by year and month to get monthly average\n",
    "    mortgage_monthly = mortgage_df.groupby(['Year', 'Month'])['FRM'].mean().reset_index()\n",
    "    \n",
    "    # Merge with monthly dataframe\n",
    "    monthly_df = pd.merge(\n",
    "        monthly_df,\n",
    "        mortgage_monthly.rename(columns={'FRM': 'Mortgage_Rate'}),\n",
    "        on=['Year', 'Month'],\n",
    "        how='left'\n",
    "    )\n",
    "    \n",
    "    print(f\"Added monthly Mortgage Rate data ({mortgage_monthly['Year'].min()}-{mortgage_monthly['Year'].max()})\")\n",
    "except Exception as e:\n",
    "    print(f\"Error processing Mortgage Rate data: {e}\")"
   ]
  },
  {
   "cell_type": "markdown",
   "metadata": {},
   "source": [
    "### Process ZHVI (Zillow Home Value Index) - already in monthly format"
   ]
  },
  {
   "cell_type": "code",
   "execution_count": 35,
   "metadata": {},
   "outputs": [
    {
     "name": "stdout",
     "output_type": "stream",
     "text": [
      "Added monthly ZHVI data (2000-2024)\n"
     ]
    }
   ],
   "source": [
    "try:\n",
    "    zhvi_df = pd.read_csv(os.path.join('Data', 'zhvi_home_values.csv'))\n",
    "    \n",
    "    # Filter for Washington DC - as the file should only have DC data\n",
    "    dc_data = zhvi_df[zhvi_df['RegionName'].str.contains('Washington', case=False)]\n",
    "    \n",
    "    if len(dc_data) == 0:\n",
    "        # If no data matches the filter, use all data (should just be DC)\n",
    "        dc_data = zhvi_df\n",
    "    \n",
    "    if len(dc_data) > 0:\n",
    "        # Get date columns (excluding metadata columns)\n",
    "        date_columns = [col for col in dc_data.columns if '/' in col]\n",
    "        \n",
    "        # Convert wide format to long format\n",
    "        zhvi_long = pd.melt(\n",
    "            dc_data,\n",
    "            id_vars=['RegionID', 'RegionName'],\n",
    "            value_vars=date_columns,\n",
    "            var_name='Date',\n",
    "            value_name='ZHVI'\n",
    "        )\n",
    "        \n",
    "        # Convert Date to datetime\n",
    "        zhvi_long['Date'] = pd.to_datetime(zhvi_long['Date'])\n",
    "        \n",
    "        # Extract year and month\n",
    "        zhvi_long['Year'] = zhvi_long['Date'].dt.year\n",
    "        zhvi_long['Month'] = zhvi_long['Date'].dt.month\n",
    "        \n",
    "        # Merge with monthly dataframe\n",
    "        monthly_df = pd.merge(\n",
    "            monthly_df,\n",
    "            zhvi_long[['Year', 'Month', 'ZHVI']],\n",
    "            on=['Year', 'Month'],\n",
    "            how='left'\n",
    "        )\n",
    "        \n",
    "        print(f\"Added monthly ZHVI data ({zhvi_long['Year'].min()}-{zhvi_long['Year'].max()})\")\n",
    "    else:\n",
    "        print(\"ZHVI data did not contain Washington DC data\")\n",
    "except Exception as e:\n",
    "    print(f\"Error processing ZHVI data: {e}\")"
   ]
  },
  {
   "cell_type": "markdown",
   "metadata": {},
   "source": [
    "## 3. Process Annual Data with Monthly Interpolation"
   ]
  },
  {
   "cell_type": "code",
   "execution_count": 36,
   "metadata": {},
   "outputs": [],
   "source": [
    "# Function to convert annual data to monthly with interpolation\n",
    "def annual_to_monthly(annual_df, year_col, value_col, new_col_name, date_col=None):\n",
    "    \"\"\"\n",
    "    Convert annual data to monthly with interpolation\n",
    "    \"\"\"\n",
    "    # If a date column is provided, use it. Otherwise create one from the year\n",
    "    if date_col is None:\n",
    "        annual_df['Date'] = pd.to_datetime(annual_df[year_col].astype(str) + '-01-01')\n",
    "    else:\n",
    "        annual_df['Date'] = pd.to_datetime(annual_df[date_col])\n",
    "    \n",
    "    # Set the date as index\n",
    "    annual_df = annual_df.set_index('Date')\n",
    "    \n",
    "    # Create a monthly date range based on the annual data's date range\n",
    "    monthly_dates = pd.date_range(\n",
    "        start=annual_df.index.min(),\n",
    "        end=annual_df.index.max(),\n",
    "        freq='MS'\n",
    "    )\n",
    "    \n",
    "    # Create a new dataframe with monthly dates\n",
    "    monthly_data = pd.DataFrame(index=monthly_dates)\n",
    "    \n",
    "    # Add the annual data to the monthly dataframe\n",
    "    for date, row in annual_df.iterrows():\n",
    "        if date in monthly_data.index:\n",
    "            monthly_data.loc[date, value_col] = row[value_col]\n",
    "    \n",
    "    # Interpolate missing values\n",
    "    monthly_data[value_col] = monthly_data[value_col].interpolate(method='cubic')\n",
    "    \n",
    "    # Reset index to get Date as a column\n",
    "    monthly_data = monthly_data.reset_index()\n",
    "    monthly_data = monthly_data.rename(columns={'index': 'Date', value_col: new_col_name})\n",
    "    \n",
    "    # Add Year and Month columns\n",
    "    monthly_data['Year'] = monthly_data['Date'].dt.year\n",
    "    monthly_data['Month'] = monthly_data['Date'].dt.month\n",
    "    \n",
    "    return monthly_data[['Year', 'Month', new_col_name]]"
   ]
  },
  {
   "cell_type": "markdown",
   "metadata": {},
   "source": [
    "### Process GDP Growth Data (quarterly to monthly)"
   ]
  },
  {
   "cell_type": "code",
   "execution_count": 37,
   "metadata": {},
   "outputs": [
    {
     "name": "stdout",
     "output_type": "stream",
     "text": [
      "Added GDP Growth data (quarterly interpolated to monthly)\n"
     ]
    }
   ],
   "source": [
    "try:\n",
    "    gdp_df = pd.read_csv(os.path.join('Data', 'GDP_Growth.csv'))\n",
    "    \n",
    "    # This data has a unique structure:\n",
    "    # First row is years for each quarter\n",
    "    # Second row is quarter labels (Q1, Q2, Q3, Q4)\n",
    "    \n",
    "    # Separate years and quarters from data\n",
    "    years_quarters = {}  # To store year-quarter relationships\n",
    "    years = []\n",
    "    quarters = []\n",
    "    gdp_values = []\n",
    "    \n",
    "    # Extract headers (column names) as years and quarters\n",
    "    all_columns = gdp_df.columns.tolist()\n",
    "    \n",
    "    # For each column after the first row\n",
    "    for i, col in enumerate(all_columns):\n",
    "        try:\n",
    "            # First row should have years (column names)\n",
    "            # Second row should have quarter labels (Q1, Q2, etc.)\n",
    "            year = int(float(col))\n",
    "            quarter = gdp_df.iloc[0, i]  # Get the quarter from the first row\n",
    "            \n",
    "            # The value is in the second row\n",
    "            value = float(gdp_df.iloc[1, i])\n",
    "            \n",
    "            years.append(year)\n",
    "            quarters.append(quarter)\n",
    "            gdp_values.append(value)\n",
    "            \n",
    "            # Store in our dictionary\n",
    "            years_quarters[(year, quarter)] = value\n",
    "        except (ValueError, TypeError):\n",
    "            # Skip any column that doesn't convert to a year\n",
    "            continue\n",
    "    \n",
    "    # Convert to a DataFrame\n",
    "    gdp_quarterly = pd.DataFrame({\n",
    "        'Year': years,\n",
    "        'Quarter': quarters,\n",
    "        'GDP_Growth': gdp_values\n",
    "    })\n",
    "    \n",
    "    # Map each quarter to its middle month\n",
    "    quarter_to_month = {'Q1': 2, 'Q2': 5, 'Q3': 8, 'Q4': 11}\n",
    "    gdp_quarterly['Month'] = gdp_quarterly['Quarter'].map(quarter_to_month)\n",
    "    \n",
    "    # Create date column for interpolation\n",
    "    gdp_quarterly['Date'] = pd.to_datetime(\n",
    "        gdp_quarterly['Year'].astype(str) + '-' + \n",
    "        gdp_quarterly['Month'].astype(str) + '-01'\n",
    "    )\n",
    "    \n",
    "    # Set date as index for interpolation\n",
    "    gdp_quarterly = gdp_quarterly.set_index('Date')\n",
    "    \n",
    "    # Create a monthly date range\n",
    "    monthly_dates = pd.date_range(\n",
    "        start=gdp_quarterly.index.min(),\n",
    "        end=gdp_quarterly.index.max(),\n",
    "        freq='MS'\n",
    "    )\n",
    "    \n",
    "    # Create monthly dataframe\n",
    "    gdp_monthly = pd.DataFrame(index=monthly_dates)\n",
    "    \n",
    "    # Map quarterly values to their corresponding months\n",
    "    for date, row in gdp_quarterly.iterrows():\n",
    "        if date in gdp_monthly.index:\n",
    "            gdp_monthly.loc[date, 'GDP_Growth'] = row['GDP_Growth']\n",
    "    \n",
    "    # Interpolate missing values\n",
    "    gdp_monthly['GDP_Growth'] = gdp_monthly['GDP_Growth'].interpolate(method='cubic')\n",
    "    \n",
    "    # Prepare for merge\n",
    "    gdp_monthly = gdp_monthly.reset_index()\n",
    "    gdp_monthly['Year'] = gdp_monthly['index'].dt.year\n",
    "    gdp_monthly['Month'] = gdp_monthly['index'].dt.month\n",
    "    \n",
    "    # Merge with monthly dataframe\n",
    "    monthly_df = pd.merge(\n",
    "        monthly_df,\n",
    "        gdp_monthly[['Year', 'Month', 'GDP_Growth']],\n",
    "        on=['Year', 'Month'],\n",
    "        how='left'\n",
    "    )\n",
    "    \n",
    "    print(f\"Added GDP Growth data (quarterly interpolated to monthly)\")\n",
    "except Exception as e:\n",
    "    print(f\"Error processing GDP Growth data: {e}\")\n",
    "    import traceback\n",
    "    traceback.print_exc()"
   ]
  },
  {
   "cell_type": "markdown",
   "metadata": {},
   "source": [
    "### Process Median Household Income (annual)"
   ]
  },
  {
   "cell_type": "code",
   "execution_count": 38,
   "metadata": {},
   "outputs": [
    {
     "name": "stdout",
     "output_type": "stream",
     "text": [
      "Added Median Household Income data (interpolated to monthly)\n"
     ]
    }
   ],
   "source": [
    "try:\n",
    "    income_df = pd.read_csv(os.path.join('Data', 'DC_Median_Household_Income_Annually.csv'))\n",
    "    \n",
    "    # Convert to monthly\n",
    "    income_monthly = annual_to_monthly(\n",
    "        income_df,\n",
    "        'Year',\n",
    "        'MEHOINUSDCA646N',\n",
    "        'Median_Household_Income',\n",
    "        'observation_date'\n",
    "    )\n",
    "    \n",
    "    # Merge with monthly dataframe\n",
    "    monthly_df = pd.merge(\n",
    "        monthly_df,\n",
    "        income_monthly,\n",
    "        on=['Year', 'Month'],\n",
    "        how='left'\n",
    "    )\n",
    "    \n",
    "    print(f\"Added Median Household Income data (interpolated to monthly)\")\n",
    "except Exception as e:\n",
    "    print(f\"Error processing Median Household Income data: {e}\")\n",
    "    # Extract year from observation_date and use it directly\n",
    "    try:\n",
    "        income_df = pd.read_csv(os.path.join('Data', 'DC_Median_Household_Income_Annually.csv'))\n",
    "        income_df['Year'] = pd.to_datetime(income_df['observation_date']).dt.year\n",
    "        \n",
    "        # Create a temporary dataframe with annual data\n",
    "        temp_df = pd.DataFrame()\n",
    "        for year in income_df['Year'].unique():\n",
    "            year_income = income_df[income_df['Year'] == year]['MEHOINUSDCA646N'].values[0]\n",
    "            for month in range(1, 13):\n",
    "                temp_df = pd.concat([temp_df, pd.DataFrame({\n",
    "                    'Year': [year],\n",
    "                    'Month': [month],\n",
    "                    'Date': [pd.to_datetime(f\"{year}-{month:02d}-01\")],\n",
    "                    'Median_Household_Income': [year_income]\n",
    "                })])\n",
    "        \n",
    "        # Sort by date\n",
    "        temp_df = temp_df.sort_values('Date')\n",
    "        \n",
    "        # Interpolate to smooth out the steps\n",
    "        temp_df['Median_Household_Income'] = temp_df['Median_Household_Income'].interpolate(method='cubic')\n",
    "        \n",
    "        # Merge with monthly dataframe\n",
    "        monthly_df = pd.merge(\n",
    "            monthly_df,\n",
    "            temp_df[['Year', 'Month', 'Median_Household_Income']],\n",
    "            on=['Year', 'Month'],\n",
    "            how='left'\n",
    "        )\n",
    "        \n",
    "        print(f\"Added Median Household Income data (alternative method)\")\n",
    "    except Exception as e2:\n",
    "        print(f\"Second attempt to process income data failed: {e2}\")"
   ]
  },
  {
   "cell_type": "markdown",
   "metadata": {},
   "source": [
    "### Process Population Data (annual)"
   ]
  },
  {
   "cell_type": "code",
   "execution_count": 39,
   "metadata": {},
   "outputs": [
    {
     "name": "stdout",
     "output_type": "stream",
     "text": [
      "Added Population data (interpolated to monthly)\n"
     ]
    }
   ],
   "source": [
    "try:\n",
    "    population_df = pd.read_csv(os.path.join('Data', 'DC_Population.csv'))\n",
    "    \n",
    "    # Extract year from observation_date\n",
    "    population_df['Year'] = pd.to_datetime(population_df['observation_date']).dt.year\n",
    "    \n",
    "    # Create a temporary dataframe with annual data\n",
    "    temp_df = pd.DataFrame()\n",
    "    for year in population_df['Year'].unique():\n",
    "        year_pop = population_df[population_df['Year'] == year]['DCPOP'].values[0]\n",
    "        for month in range(1, 13):\n",
    "            temp_df = pd.concat([temp_df, pd.DataFrame({\n",
    "                'Year': [year],\n",
    "                'Month': [month],\n",
    "                'Date': [pd.to_datetime(f\"{year}-{month:02d}-01\")],\n",
    "                'Population': [year_pop]\n",
    "            })])\n",
    "    \n",
    "    # Sort by date\n",
    "    temp_df = temp_df.sort_values('Date')\n",
    "    \n",
    "    # Interpolate to smooth out the steps\n",
    "    temp_df['Population'] = temp_df['Population'].interpolate(method='cubic')\n",
    "    \n",
    "    # Merge with monthly dataframe\n",
    "    monthly_df = pd.merge(\n",
    "        monthly_df,\n",
    "        temp_df[['Year', 'Month', 'Population']],\n",
    "        on=['Year', 'Month'],\n",
    "        how='left'\n",
    "    )\n",
    "    \n",
    "    print(f\"Added Population data (interpolated to monthly)\")\n",
    "except Exception as e:\n",
    "    print(f\"Error processing Population data: {e}\")"
   ]
  },
  {
   "cell_type": "markdown",
   "metadata": {},
   "source": [
    "### Process Poverty Rate Data (annual)"
   ]
  },
  {
   "cell_type": "code",
   "execution_count": 40,
   "metadata": {},
   "outputs": [
    {
     "name": "stdout",
     "output_type": "stream",
     "text": [
      "Added Poverty Rate data (interpolated to monthly)\n"
     ]
    }
   ],
   "source": [
    "try:\n",
    "    poverty_df = pd.read_csv(os.path.join('Data', 'DC_Poverty_Rate.csv'))\n",
    "    \n",
    "    # Create a temporary dataframe with annual data\n",
    "    temp_df = pd.DataFrame()\n",
    "    for year in poverty_df['Year'].unique():\n",
    "        year_poverty = poverty_df[poverty_df['Year'] == year]['Poverty Rate (%)'].values[0]\n",
    "        for month in range(1, 13):\n",
    "            temp_df = pd.concat([temp_df, pd.DataFrame({\n",
    "                'Year': [year],\n",
    "                'Month': [month],\n",
    "                'Date': [pd.to_datetime(f\"{year}-{month:02d}-01\")],\n",
    "                'Poverty_Rate': [year_poverty]\n",
    "            })])\n",
    "    \n",
    "    # Sort by date\n",
    "    temp_df = temp_df.sort_values('Date')\n",
    "    \n",
    "    # Interpolate to smooth out the steps\n",
    "    temp_df['Poverty_Rate'] = temp_df['Poverty_Rate'].interpolate(method='cubic')\n",
    "    \n",
    "    # Merge with monthly dataframe\n",
    "    monthly_df = pd.merge(\n",
    "        monthly_df,\n",
    "        temp_df[['Year', 'Month', 'Poverty_Rate']],\n",
    "        on=['Year', 'Month'],\n",
    "        how='left'\n",
    "    )\n",
    "    \n",
    "    print(f\"Added Poverty Rate data (interpolated to monthly)\")\n",
    "except Exception as e:\n",
    "    print(f\"Error processing Poverty Rate data: {e}\")"
   ]
  },
  {
   "cell_type": "markdown",
   "metadata": {},
   "source": [
    "### Process Marriage Rate Data"
   ]
  },
  {
   "cell_type": "code",
   "execution_count": 41,
   "metadata": {},
   "outputs": [
    {
     "name": "stdout",
     "output_type": "stream",
     "text": [
      "Added Marriage Rate data (interpolated to monthly with seasonal pattern)\n"
     ]
    }
   ],
   "source": [
    "try:\n",
    "    marriage_df = pd.read_csv(os.path.join('Data', 'DC_Marriage_Rate.csv'))\n",
    "    \n",
    "    # Convert from wide to long format\n",
    "    years = marriage_df.columns.tolist()\n",
    "    marriage_rates = marriage_df.iloc[0].tolist()\n",
    "    \n",
    "    # Create a proper dataframe\n",
    "    marriage_annual = pd.DataFrame({\n",
    "        'Year': [int(year) for year in years],\n",
    "        'Marriage_Rate': marriage_rates\n",
    "    })\n",
    "    \n",
    "    # Create a temporary dataframe with annual data\n",
    "    temp_df = pd.DataFrame()\n",
    "    for year in marriage_annual['Year'].unique():\n",
    "        year_rate = marriage_annual[marriage_annual['Year'] == year]['Marriage_Rate'].values[0]\n",
    "        for month in range(1, 13):\n",
    "            temp_df = pd.concat([temp_df, pd.DataFrame({\n",
    "                'Year': [year],\n",
    "                'Month': [month],\n",
    "                'Date': [pd.to_datetime(f\"{year}-{month:02d}-01\")],\n",
    "                'Marriage_Rate': [year_rate]\n",
    "            })])\n",
    "    \n",
    "    # Sort by date\n",
    "    temp_df = temp_df.sort_values('Date')\n",
    "    \n",
    "    # Interpolate to smooth out the steps\n",
    "    temp_df['Marriage_Rate'] = temp_df['Marriage_Rate'].interpolate(method='cubic')\n",
    "    \n",
    "    # Apply seasonal pattern (more marriages in summer)\n",
    "    seasonal_pattern = [0.8, 0.8, 0.9, 1.0, 1.1, 1.3, 1.4, 1.2, 1.0, 0.9, 0.8, 0.8]\n",
    "    \n",
    "    # Calculate annual average to preserve\n",
    "    yearly_avg = temp_df.groupby('Year')['Marriage_Rate'].mean().reset_index()\n",
    "    \n",
    "    # Apply seasonal pattern\n",
    "    for year in temp_df['Year'].unique():\n",
    "        # Get the annual average\n",
    "        annual_avg = yearly_avg[yearly_avg['Year'] == year]['Marriage_Rate'].values[0]\n",
    "        \n",
    "        # Apply seasonal pattern to each month\n",
    "        for month in range(1, 13):\n",
    "            month_idx = ((temp_df['Year'] == year) & (temp_df['Month'] == month))\n",
    "            seasonal_factor = seasonal_pattern[month-1]\n",
    "            \n",
    "            # Calculate the seasonally adjusted rate\n",
    "            temp_df.loc[month_idx, 'Marriage_Rate'] = annual_avg * seasonal_factor\n",
    "    \n",
    "    # Merge with monthly dataframe\n",
    "    monthly_df = pd.merge(\n",
    "        monthly_df,\n",
    "        temp_df[['Year', 'Month', 'Marriage_Rate']],\n",
    "        on=['Year', 'Month'],\n",
    "        how='left'\n",
    "    )\n",
    "    \n",
    "    print(f\"Added Marriage Rate data (interpolated to monthly with seasonal pattern)\")\n",
    "except Exception as e:\n",
    "    print(f\"Error processing Marriage Rate data: {e}\")\n",
    "    import traceback\n",
    "    traceback.print_exc()"
   ]
  },
  {
   "cell_type": "markdown",
   "metadata": {},
   "source": [
    "### Process Divorce Rate Data"
   ]
  },
  {
   "cell_type": "code",
   "execution_count": 42,
   "metadata": {},
   "outputs": [
    {
     "name": "stdout",
     "output_type": "stream",
     "text": [
      "Added Divorce Rate data (interpolated to monthly with seasonal pattern)\n"
     ]
    }
   ],
   "source": [
    "try:\n",
    "    divorce_df = pd.read_csv(os.path.join('Data', 'DC_Divorce_Rate.csv'))\n",
    "    \n",
    "    # Convert from wide to long format\n",
    "    years = divorce_df.columns.tolist()\n",
    "    divorce_rates = divorce_df.iloc[0].tolist()\n",
    "    \n",
    "    # Create a proper dataframe\n",
    "    divorce_annual = pd.DataFrame({\n",
    "        'Year': [int(year) for year in years],\n",
    "        'Divorce_Rate': divorce_rates\n",
    "    })\n",
    "    \n",
    "    # Create a temporary dataframe with annual data\n",
    "    temp_df = pd.DataFrame()\n",
    "    for year in divorce_annual['Year'].unique():\n",
    "        year_rate = divorce_annual[divorce_annual['Year'] == year]['Divorce_Rate'].values[0]\n",
    "        for month in range(1, 13):\n",
    "            temp_df = pd.concat([temp_df, pd.DataFrame({\n",
    "                'Year': [year],\n",
    "                'Month': [month],\n",
    "                'Date': [pd.to_datetime(f\"{year}-{month:02d}-01\")],\n",
    "                'Divorce_Rate': [year_rate]\n",
    "            })])\n",
    "    \n",
    "    # Sort by date\n",
    "    temp_df = temp_df.sort_values('Date')\n",
    "    \n",
    "    # Interpolate to smooth out the steps\n",
    "    temp_df['Divorce_Rate'] = temp_df['Divorce_Rate'].interpolate(method='cubic')\n",
    "    \n",
    "    # Apply seasonal pattern (less pronounced than marriage)\n",
    "    seasonal_pattern = [1.05, 1.0, 1.0, 0.95, 0.95, 0.95, 1.0, 1.0, 1.05, 1.05, 1.0, 1.0]\n",
    "    \n",
    "    # Calculate annual average to preserve\n",
    "    yearly_avg = temp_df.groupby('Year')['Divorce_Rate'].mean().reset_index()\n",
    "    \n",
    "    # Apply seasonal pattern\n",
    "    for year in temp_df['Year'].unique():\n",
    "        # Get the annual average\n",
    "        annual_avg = yearly_avg[yearly_avg['Year'] == year]['Divorce_Rate'].values[0]\n",
    "        \n",
    "        # Apply seasonal pattern to each month\n",
    "        for month in range(1, 13):\n",
    "            month_idx = ((temp_df['Year'] == year) & (temp_df['Month'] == month))\n",
    "            seasonal_factor = seasonal_pattern[month-1]\n",
    "            \n",
    "            # Calculate the seasonally adjusted rate\n",
    "            temp_df.loc[month_idx, 'Divorce_Rate'] = annual_avg * seasonal_factor\n",
    "    \n",
    "    # Merge with monthly dataframe\n",
    "    monthly_df = pd.merge(\n",
    "        monthly_df,\n",
    "        temp_df[['Year', 'Month', 'Divorce_Rate']],\n",
    "        on=['Year', 'Month'],\n",
    "        how='left'\n",
    "    )\n",
    "    \n",
    "    print(f\"Added Divorce Rate data (interpolated to monthly with seasonal pattern)\")\n",
    "except Exception as e:\n",
    "    print(f\"Error processing Divorce Rate data: {e}\")"
   ]
  },
  {
   "cell_type": "markdown",
   "metadata": {},
   "source": [
    "## 4. Final Data Cleaning"
   ]
  },
  {
   "cell_type": "code",
   "execution_count": 45,
   "metadata": {},
   "outputs": [
    {
     "name": "stdout",
     "output_type": "stream",
     "text": [
      "\n",
      "Missing values after cleaning:\n",
      "Date                       0\n",
      "Year                       0\n",
      "Month                      0\n",
      "Unemployment_Rate          0\n",
      "CPI                        0\n",
      "Interest_Rate              0\n",
      "Mortgage_Rate              0\n",
      "ZHVI                       0\n",
      "GDP_Growth                 0\n",
      "Median_Household_Income    0\n",
      "Population                 0\n",
      "Poverty_Rate               0\n",
      "Marriage_Rate              0\n",
      "Divorce_Rate               0\n",
      "dtype: int64\n",
      "\n",
      "Saved monthly dataframe to dc_economic_monthly_dataframe.csv in the root directory\n"
     ]
    },
    {
     "name": "stderr",
     "output_type": "stream",
     "text": [
      "/tmp/ipykernel_6779/4103449650.py:11: FutureWarning: Series.fillna with 'method' is deprecated and will raise in a future version. Use obj.ffill() or obj.bfill() instead.\n",
      "  monthly_df[column] = monthly_df[column].fillna(method='ffill')\n",
      "/tmp/ipykernel_6779/4103449650.py:14: FutureWarning: Series.fillna with 'method' is deprecated and will raise in a future version. Use obj.ffill() or obj.bfill() instead.\n",
      "  monthly_df[column] = monthly_df[column].fillna(method='bfill')\n"
     ]
    }
   ],
   "source": [
    "# Add Date column for sorting and time series analysis\n",
    "monthly_df['Date'] = pd.to_datetime(monthly_df['Year'].astype(str) + '-' + monthly_df['Month'].astype(str) + '-01')\n",
    "\n",
    "# Sort by date\n",
    "monthly_df = monthly_df.sort_values('Date')\n",
    "\n",
    "# Handle missing values\n",
    "for column in monthly_df.columns:\n",
    "    if column not in ['Date', 'Year', 'Month']:\n",
    "        # Forward fill missing values\n",
    "        monthly_df[column] = monthly_df[column].fillna(method='ffill')\n",
    "        \n",
    "        # Backward fill for any remaining NAs at the beginning\n",
    "        monthly_df[column] = monthly_df[column].fillna(method='bfill')\n",
    "\n",
    "# Check for any remaining missing values\n",
    "missing_values = monthly_df.isnull().sum()\n",
    "print(\"\\nMissing values after cleaning:\")\n",
    "print(missing_values)\n",
    "\n",
    "# Save the processed DataFrame only to the root directory\n",
    "monthly_df.to_csv('dc_economic_monthly_dataframe.csv', index=False)\n",
    "print(f\"\\nSaved monthly dataframe to dc_economic_monthly_dataframe.csv in the root directory\")"
   ]
  }
 ],
 "metadata": {
  "kernelspec": {
   "display_name": "venv",
   "language": "python",
   "name": "python3"
  },
  "language_info": {
   "codemirror_mode": {
    "name": "ipython",
    "version": 3
   },
   "file_extension": ".py",
   "mimetype": "text/x-python",
   "name": "python",
   "nbconvert_exporter": "python",
   "pygments_lexer": "ipython3",
   "version": "3.12.3"
  }
 },
 "nbformat": 4,
 "nbformat_minor": 2
}
